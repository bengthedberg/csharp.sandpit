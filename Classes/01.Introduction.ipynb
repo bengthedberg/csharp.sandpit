{
 "cells": [
  {
   "attachments": {},
   "cell_type": "markdown",
   "metadata": {},
   "source": [
    "# C# Classes - Introduction\n",
    "\n",
    "## Class, Object and Instance\n",
    "* Classes are building blocks of software applications.\n",
    "* A `class` **encapsulates data** (stored in `fields`) and behaviour (defined by `methods`)."
   ]
  },
  {
   "cell_type": "code",
   "execution_count": 1,
   "metadata": {
    "dotnet_interactive": {
     "language": "csharp"
    },
    "polyglot_notebook": {
     "kernelName": "csharp"
    }
   },
   "outputs": [],
   "source": [
    "public class Customer\n",
    "{\n",
    "    // Field\n",
    "    public string Name;\n",
    "    // Method\n",
    "    public void Promote()\n",
    "    {\n",
    "    }\n",
    "}"
   ]
  },
  {
   "attachments": {},
   "cell_type": "markdown",
   "metadata": {},
   "source": [
    "* An `object` is an `instance` of a `class`. We can create an object using the `new` operator. "
   ]
  },
  {
   "cell_type": "code",
   "execution_count": 2,
   "metadata": {
    "dotnet_interactive": {
     "language": "csharp"
    },
    "polyglot_notebook": {
     "kernelName": "csharp"
    }
   },
   "outputs": [],
   "source": [
    "public class Customer\n",
    "{\n",
    "    // Field\n",
    "    public string Name;\n",
    "    // Method\n",
    "    public void Promote()\n",
    "    {\n",
    "    }\n",
    "}\n",
    "\n",
    "var customer = new Customer();\n"
   ]
  },
  {
   "attachments": {},
   "cell_type": "markdown",
   "metadata": {},
   "source": [
    "## Constructors\n",
    "\n",
    "A constructor is a method that is called when an instance of a `class` is created.\n",
    "\n",
    "We use constructors to put an `object` in an early state.\n",
    "\n",
    ">> :star:  Define a constructor only when an object *needs* to be initialised or it won’t be able to do its job.\n",
    "\n",
    "Constructors do **not have a return type**, not even `void`, and they should have the exact **same name as the class**.\n",
    "\n",
    ">> :point_right: A quick way to create a constructor: type `ctor` and press tab. This is a code snippet.\n",
    "\n",
    "Constructors can be **overloaded**. Overloading means creating a **method** with the **same name and different signatures**.\n",
    "\n",
    "Signature of a method consists of the number, type and order of its parameters.\n",
    "\n",
    "We can pass control from one constructor, **chaining**, to the other by using the `this` keyword."
   ]
  },
  {
   "cell_type": "code",
   "execution_count": 3,
   "metadata": {
    "dotnet_interactive": {
     "language": "csharp"
    },
    "polyglot_notebook": {
     "kernelName": "csharp"
    }
   },
   "outputs": [],
   "source": [
    "public class Order\n",
    "{\n",
    "}\n",
    "\n",
    "public class Customer\n",
    "{\n",
    "    public int Id;\n",
    "    public string Name;\n",
    "    public List<Order> Orders;\n",
    "\n",
    "    // Default or parameterless constructor\n",
    "    public Customer()\n",
    "    {\n",
    "    // Orders has to be initialized here, otherwise it\n",
    "    // will be a null reference. As a best practice,\n",
    "    // anytime your class contains a list, always\n",
    "    // initialize the list.\n",
    "    Orders = new List<Order>();\n",
    "    }\n",
    "    public Customer(int id)\n",
    "    : this() // Calls the default constructor\n",
    "    {\n",
    "    this.Id = id;\n",
    "    }\n",
    "}"
   ]
  },
  {
   "attachments": {},
   "cell_type": "markdown",
   "metadata": {},
   "source": [
    "## Methods\n",
    "\n",
    "Signature of a method consists of the number, type and order of its parameters.\n",
    "\n",
    "**Overloading** a method means having a method with the **same name but with different signatures**. This makes it easier for the callers of the method to choose the more suitable signature depending on the type of data they have to pass to the method."
   ]
  },
  {
   "cell_type": "code",
   "execution_count": 4,
   "metadata": {
    "dotnet_interactive": {
     "language": "csharp"
    },
    "polyglot_notebook": {
     "kernelName": "csharp"
    }
   },
   "outputs": [],
   "source": [
    "public class Point\n",
    "{\n",
    "    public void Move(int x, int y) {}\n",
    "\n",
    "    // The Move method overloaded here\n",
    "    public void Move(Point newLocation) {}\n",
    "}"
   ]
  },
  {
   "attachments": {},
   "cell_type": "markdown",
   "metadata": {},
   "source": [
    "### Params\n",
    "\n",
    "We can use the `params` modifier to give a method the ability to **receive varying number of parameters**."
   ]
  },
  {
   "cell_type": "code",
   "execution_count": 5,
   "metadata": {
    "dotnet_interactive": {
     "language": "csharp"
    },
    "polyglot_notebook": {
     "kernelName": "csharp"
    }
   },
   "outputs": [
    {
     "name": "stdout",
     "output_type": "stream",
     "text": [
      "Result is 10\n"
     ]
    }
   ],
   "source": [
    "public class Calculator\n",
    "{\n",
    "    public int Add(params int[] numbers) \n",
    "    {\n",
    "        var result = 0;\n",
    "        foreach(var n in numbers)\n",
    "            result += n;\n",
    "        return result;    \n",
    "    }\n",
    "}\n",
    "\n",
    "var calculator = new Calculator();\n",
    "var result = calculator.Add(1, 2, 3, 4);\n",
    "Console.WriteLine($\"Result is {result}\");"
   ]
  },
  {
   "attachments": {},
   "cell_type": "markdown",
   "metadata": {},
   "source": [
    "By default, when we pass a value type (eg int, char, bool) to a method, a copy of that variable is sent to the method. So changes applied to that variable in the method will not be visible upon return from the method. \n",
    "\n",
    "### Ref\n",
    "\n",
    "The bahaviour of passing value types to methods can be modified using the `ref` modifier. When we use the `ref` modifier, **a reference to the original variable will be sent to the target method**.\n",
    "\n",
    ">> :star: The ref modifier, in my opinion, is a smell in the design of the C# language. Please don’t use it when defining your methods."
   ]
  },
  {
   "cell_type": "code",
   "execution_count": 6,
   "metadata": {
    "dotnet_interactive": {
     "language": "csharp"
    },
    "polyglot_notebook": {
     "kernelName": "csharp"
    }
   },
   "outputs": [],
   "source": [
    "public void Weirdo(ref int a)\n",
    "{\n",
    " a += 2;\n",
    "}\n",
    "\n",
    "var a = 1;\n",
    "Weirdo(ref a);\n",
    "// Here a will be 3."
   ]
  },
  {
   "attachments": {},
   "cell_type": "markdown",
   "metadata": {},
   "source": [
    "### Out\n",
    "\n",
    "The out modifier can be used to return multiple values from a method. Any parameter declared with the out modifier is expected to receive a value at the end of the method.\n",
    ">> :star: Using the `out` modifier is normlly considered a design smell. Avoid using it when declaring your methods.\n"
   ]
  },
  {
   "cell_type": "code",
   "execution_count": 7,
   "metadata": {
    "dotnet_interactive": {
     "language": "csharp"
    },
    "polyglot_notebook": {
     "kernelName": "csharp"
    }
   },
   "outputs": [],
   "source": [
    "public void Weirdo(out int a)\n",
    "{\n",
    "    a = 1;\n",
    "}\n",
    " \n",
    "int a;\n",
    "Weirdo(out a);  \n",
    "// a gets assign 1, normally it would keep its default value of 0"
   ]
  },
  {
   "attachments": {},
   "cell_type": "markdown",
   "metadata": {},
   "source": [
    "## Fields\n",
    "\n",
    "A `field` in a class represents data, the state of the object.\n",
    "\n",
    "A field can be initialized in two ways:\n",
    "  1. In a constructor, or \n",
    "  2. directly upon declaration. \n",
    " \n",
    ">> Best Practise: Initialise a field during declaration to avoid any null exceptions when using a reference type.\n",
    "\n",
    "Here, the `Orders` list field will always be initialised. Regardless of bow the `Customer` class was created:"
   ]
  },
  {
   "cell_type": "code",
   "execution_count": 8,
   "metadata": {
    "dotnet_interactive": {
     "language": "csharp"
    },
    "polyglot_notebook": {
     "kernelName": "csharp"
    }
   },
   "outputs": [],
   "source": [
    "public class Customer\n",
    "{\n",
    "    public List<Order> Orders = new List<Order>();\n",
    "}"
   ]
  },
  {
   "attachments": {},
   "cell_type": "markdown",
   "metadata": {},
   "source": [
    "### Readonly\n",
    "\n",
    "When a field is declared with `readonly`, it needs to be initialized either:\n",
    "* during declaration, or\n",
    "* in a constructor.\n",
    "\n",
    ">> :star: Use the `readonly` modifier on fields that should keep its value, to improve the robustness of the code. \n",
    "\n",
    "**The value cannot be changed after that**. This prevents you from accidentally\n",
    "overwriting the value of a field, which can result in an unexpected state. \n",
    "\n",
    "As an example, think of the `Orders` in the above example. If we accidentally re-initialize this field somewhere else in the class, all the Order objects stored in the list will be lost. So we should declare it as readonly:"
   ]
  },
  {
   "cell_type": "code",
   "execution_count": 9,
   "metadata": {
    "dotnet_interactive": {
     "language": "csharp"
    },
    "polyglot_notebook": {
     "kernelName": "csharp"
    }
   },
   "outputs": [],
   "source": [
    "public class Customer\n",
    "{\n",
    "    public readonly List<Order> Orders = new List<Order>();\n",
    "}"
   ]
  },
  {
   "attachments": {},
   "cell_type": "markdown",
   "metadata": {},
   "source": [
    "# Access Modifiers\n",
    "\n",
    "In C# we have 5 access modifiers, for the moment we will concentrate on these two:\n",
    "\n",
    "- A `public` class member is accessible everywhere.\n",
    "- A `private` class member is accessible only from inside the class.\n",
    "\n",
    "We’ll learn about the other access modifiers when we get to the inheritance.\n",
    "\n",
    ">> :star: Use **access modifiers** to hide the implementation details of a class, (encapsulate it). \n",
    "\n",
    "Anything that is about *how* a class does its job should be declared as `private`. This way, we make sure other parts of the code will not touch the implementation detail of a class. You have encapsulated it.\n",
    "\n",
    "We improved the robustness of our code. Changing the implementation of a class can be done by making changes inside the class. No other parts of the code will need to be changed as long as the external *what* remains the same.\n",
    "\n"
   ]
  },
  {
   "attachments": {},
   "cell_type": "markdown",
   "metadata": {},
   "source": [
    "## Properties\n",
    "\n",
    "A `property` is a kind of class member that is used for **providing access to `fields`** of a `class`.\n",
    "\n",
    ">> :star: Declare fields as private and create public properties to\n",
    "provide access to them.\n",
    "\n",
    "A property encapsulates a get and a set method:"
   ]
  },
  {
   "cell_type": "code",
   "execution_count": 10,
   "metadata": {
    "dotnet_interactive": {
     "language": "csharp"
    },
    "polyglot_notebook": {
     "kernelName": "csharp"
    }
   },
   "outputs": [],
   "source": [
    "public class Customer\n",
    "{\n",
    "    private string _name;\n",
    "    public string Name\n",
    "    {\n",
    "        get { return _name; }\n",
    "        set { _name = value; }\n",
    "    }\n",
    "}"
   ]
  },
  {
   "attachments": {},
   "cell_type": "markdown",
   "metadata": {},
   "source": [
    "Inside the `get`/`set` methods we can have some **logic**.\n",
    "\n",
    "If you don’t need to write any specific logic in the `get` or `set` method, it’s more efficient to create an `auto-implemented property`. \n",
    "\n",
    "An `auto-implemented property` **encapsulates a private field** behind the scene. \n",
    "\n",
    "You don’t need to manually create one, the compiler creates one for you:"
   ]
  },
  {
   "cell_type": "code",
   "execution_count": 11,
   "metadata": {
    "dotnet_interactive": {
     "language": "csharp"
    },
    "polyglot_notebook": {
     "kernelName": "csharp"
    }
   },
   "outputs": [],
   "source": [
    "public class Customer\n",
    "{\n",
    "     public string Name { get; set; }\n",
    "}"
   ]
  },
  {
   "attachments": {},
   "cell_type": "markdown",
   "metadata": {},
   "source": [
    "\n",
    "You can also prevent anything ourside the `class` to modify that property by using the `private` access modifier on the `set` method:"
   ]
  },
  {
   "cell_type": "code",
   "execution_count": 12,
   "metadata": {
    "dotnet_interactive": {
     "language": "csharp"
    },
    "polyglot_notebook": {
     "kernelName": "csharp"
    }
   },
   "outputs": [],
   "source": [
    "public class Customer\n",
    "{\n",
    "     public string Name { get; private set; }\n",
    "}"
   ]
  },
  {
   "attachments": {},
   "cell_type": "markdown",
   "metadata": {},
   "source": [
    "## Indexers\n",
    "\n",
    "Indexer is a special kind of property that allows accessing elements of a collection by an index. \n",
    "\n",
    "If a class has the semantics of a list, or collection, we can define an indexer property for it. \n",
    "\n",
    "This way it’s easier to get or set items in the collection.\n",
    "\n",
    "* First, define the `type` of the return value.\n",
    "* Second, define the indexer using the use `this` keyword.\n",
    "* Third, define a parameter of the indexer. The parameter’s type depends on how you design the look-up mechanism. Also, an indexer can have more than one parameter.\n",
    "* Finally, define the `get` and `set` accessors.\n",
    "\n",
    "The following example defines the class `Matrix` that uses a multidimensional array as a field and an indexer to access its elements:"
   ]
  },
  {
   "cell_type": "code",
   "execution_count": 13,
   "metadata": {
    "dotnet_interactive": {
     "language": "csharp"
    },
    "polyglot_notebook": {
     "kernelName": "csharp"
    }
   },
   "outputs": [
    {
     "name": "stdout",
     "output_type": "stream",
     "text": [
      "0-0 0-1 0-2 \n",
      "1-1 1-2 1-3 \n",
      "2-2 2-3 2-4 \n"
     ]
    }
   ],
   "source": [
    "class Matrix\n",
    "{\n",
    "    private double[,] data;\n",
    "    public Matrix(int row, int column)\n",
    "    {\n",
    "        data = new double[row, column];\n",
    "    }\n",
    "\n",
    "    public double this[int row, int column]\n",
    "    {\n",
    "        get { return data[row, column]; }\n",
    "        set { data[row, column] = value; }\n",
    "    }\n",
    "}\n",
    "\n",
    "var matrix = new Matrix(3,3);\n",
    "\n",
    "for (int row = 0; row < 3; row++)\n",
    "{\n",
    "    for (int column = 0; column < 3; column++)\n",
    "    {\n",
    "        matrix[row, column] = (row + column);\n",
    "    }\n",
    "}\n",
    "\n",
    "for (int row = 0; row < 3; row++)\n",
    "{\n",
    "    for (int column = 0; column < 3; column++)\n",
    "    {\n",
    "        Console.Write($\"{row}-{matrix[row, column]} \");\n",
    "    }\n",
    "    Console.WriteLine();\n",
    "}"
   ]
  }
 ],
 "metadata": {
  "kernelspec": {
   "display_name": ".NET (C#)",
   "language": "C#",
   "name": ".net-csharp"
  },
  "language_info": {
   "name": "polyglot-notebook"
  },
  "orig_nbformat": 4,
  "polyglot_notebook": {
   "kernelInfo": {
    "defaultKernelName": "csharp",
    "items": [
     {
      "aliases": [],
      "name": "csharp"
     }
    ]
   }
  }
 },
 "nbformat": 4,
 "nbformat_minor": 2
}

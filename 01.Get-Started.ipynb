{
 "cells": [
  {
   "attachments": {},
   "cell_type": "markdown",
   "metadata": {},
   "source": [
    "### .NET architecture\n",
    "\n",
    "C# programs run on `.NET`, a virtual execution system called the **common language runtime** (CLR) and a **set of class libraries**. \n",
    "\n",
    "The CLR is the implementation by Microsoft of the **common language infrastructure** (CLI), an international standard. The CLI is the basis for creating execution and development environments in which languages and libraries work together seamlessly.\n",
    "\n",
    "Source code written in C# is `compiled` into an **intermediate language** (IL) that conforms to the CLI specification. The IL code and resources, such as bitmaps and strings, are stored in an `assembly`, typically with an extension of `.dll`. An assembly contains a manifest that provides information about the assembly's types, version, and culture.\n",
    "\n",
    "When the C# program is `executed`, the assembly is **loaded into the CLR**. The CLR performs `Just-In-Time` (JIT) compilation to **convert the IL code to native machine instructions**. The CLR provides other services related to automatic **garbage collection**, **exception handling**, and **resource management**. Code that's executed by the CLR is sometimes referred to as `managed code`. `Unmanaged code`, is compiled into native machine language that targets a specific platform.\n",
    "\n",
    "IL code generated from C# can interact with code that was generated from the .NET versions of F#, Visual Basic, C++. \n",
    "\n",
    "In addition to the runtime services, .NET also includes extensive libraries. These libraries support many different workloads. They're organized into namespaces that provide a wide variety of useful functionality. The libraries include everything from file input and output to string manipulation to XML parsing, to web application frameworks to Windows Forms controls. "
   ]
  }
 ],
 "metadata": {
  "language_info": {
   "name": "python"
  },
  "orig_nbformat": 4
 },
 "nbformat": 4,
 "nbformat_minor": 2
}

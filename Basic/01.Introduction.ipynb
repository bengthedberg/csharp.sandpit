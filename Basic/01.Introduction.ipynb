{
 "cells": [
  {
   "attachments": {},
   "cell_type": "markdown",
   "metadata": {},
   "source": [
    "# Introduction\n",
    "\n",
    "## C# and .NET Framework\n",
    "\n",
    "* `C#` is a **programming language**, and \n",
    "* `.NET` is a **framework**, with system libraries and a runtime platform.\n",
    "\n",
    "Microsoft's implementation of C# is heavily integrated with the .NET Framework so it is understandable that the two concepts would be confused. However it is important to understand that they are two very different things.\n",
    "\n",
    "There are [other implementations of C#](https://www.mono-project.com/docs/about-mono/languages/csharp/) available, beside Microsofts.\n",
    "\n",
    "The knowledge of C# implies some knowledge of .NET (because the C# object model corresponds to the .NET object model and you can do something interesting in C# just by using .NET libraries). The opposite isn't necessarily true as you can use other languages to write .NET applications.\n",
    "\n",
    "### Intermediate Language (IL)\n",
    "\n",
    "Source code written in C# is compiled into an **intermediate language (IL)** that conforms to the [CLI Specification](https://www.ecma-international.org/publications-and-standards/standards/ecma-335/). The IL code and resources, such as bitmaps and strings, are stored in an assembly, typically with an extension of **.dll** (dynamic ). \n",
    "\n",
    "### Common Language Runtime (CLR)\n",
    "\n",
    "When the C# program is executed, the assembly is loaded into the CLR. The CLR performs Just-In-Time (JIT) compilation to convert the IL code to native machine instructions. The CLR provides other services related to automatic garbage collection, exception handling, and resource management. Code that's executed by the CLR is sometimes referred to as *managed code*. *Unmanaged code*, is compiled into native machine language that targets a specific platform.\n",
    "\n",
    "### .NET Libraries\n",
    "\n",
    "In addition to the runtime services, .NET also includes extensive libraries. These libraries support many different workloads. They're organized into namespaces that provide a wide variety of useful functionality. \n",
    "\n",
    "### Hello World\n",
    "\n",
    "The \"Hello, World\" program is traditionally used to introduce a programming language. \n",
    "\n",
    "Here it is in C#: \n"
   ]
  },
  {
   "cell_type": "code",
   "execution_count": 1,
   "metadata": {
    "dotnet_interactive": {
     "language": "csharp"
    },
    "polyglot_notebook": {
     "kernelName": "csharp"
    },
    "vscode": {
     "languageId": "polyglot-notebook"
    }
   },
   "outputs": [],
   "source": [
    "using System;\n",
    "\n",
    "class Hello \n",
    "{\n",
    "    static void Main()\n",
    "    {         \n",
    "        // This line prints \"Hello, World\"          \n",
    "        Console.WriteLine(\"Hello, World\");     \n",
    "    } \n",
    "}"
   ]
  },
  {
   "attachments": {},
   "cell_type": "markdown",
   "metadata": {},
   "source": [
    "The \"Hello, World\" program starts with a `using` directive that references the **System namespace**. \n",
    " \n",
    " #### Namespaces\n",
    "\n",
    " Namespaces provide a hierarchical means of organizing C# programs and libraries. Namespaces contain types and other namespaces—for example, \n",
    " the `System` namespace contains a number of types, such as the `Console` class referenced in the program, and many other namespaces, such as IO and Collections. \n",
    " \n",
    " #### Using\n",
    "\n",
    " A `using` directive that references a given namespace enables unqualified use of the types that are members of that namespace. \n",
    " \n",
    " Because of the `using` directive, the program can use `Console.WriteLine` as shorthand for `System.Console.WriteLine`. \n",
    " \n",
    "#### Main Method\n",
    "\n",
    " The Hello class declared by the \"Hello, World\" program has a single member, the method named `Main`. The `Main` method is declared with the `static` modifier. \n",
    " \n",
    " By convention, a `static` method named `Main` serves as the **entry point of a C# program**.\n",
    "\n",
    " "
   ]
  }
 ],
 "metadata": {
  "language_info": {
   "name": "python"
  },
  "orig_nbformat": 4
 },
 "nbformat": 4,
 "nbformat_minor": 2
}

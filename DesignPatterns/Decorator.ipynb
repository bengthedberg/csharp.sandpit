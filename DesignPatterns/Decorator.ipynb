{
 "cells": [
  {
   "cell_type": "markdown",
   "metadata": {},
   "source": [
    "# The Decorator pattern\n",
    "\n",
    "A `structural` design pattern, which allows the attachment of new behaviours to objects. When it comes to real-world scenarios, this article shows a tax example to exemplify the pattern in C#.\n",
    "\n",
    "## Understanding the problem\n",
    "\n",
    "Calculated income tax can sometimes be done in tiers, by applying a percentage over a value range:\n",
    "\n",
    "**Personal income**\n",
    "\n",
    "So if you earn $80,000, it means that 4 tiers will be applied to your income: 10.5%, 17.5%, 30% and 33%, as below:\n",
    "\n",
    "| Income tax rate                                             |  Income\t    |  Tax     |\n",
    "|-------------------------------------------------------------|-------------|----------|\n",
    "| Income up to $14,000.00, taxed at 10.5%\t                  | 14,000.00\t| 1,470.00 |\n",
    "| Income over $14,000.00 and up to $48,000.00, taxed at 17.5% |\t34,000.00   | 5,950.00 |\n",
    "| Income over $48,000.00 and up to $70,000.00, taxed at 30%\t  | 22,000.00\t| 6,600.00 |\n",
    "| Income over $70,000.00 and up to $180,000.00, taxed at 33%  |\t10,000.00\t| 3,300.00 |\n",
    "| Remaining income over $180,000.00, taxed at 39%             |\t0.00        | 0.00     |\n",
    "| Total\t                                                      | 80,000.00\t| 17,320.00|\n",
    "\n",
    "And you will pay $17,320.00\n",
    "\n",
    "Here, we can observe that different calculations are being applied to a particular income, in other words, different behaviours are being applied, and we can basically solve this problem by applying the `Decorator` pattern to attach these behaviours to Calculate the Income Tax.\n",
    "\n",
    "### Solving using the pattern\n",
    "\n",
    "What would be the object that would be served as the glue? Because this is basically what we would have in the end, to get the Tax calculated. Let's call it `IncomeTax.cs`:"
   ]
  },
  {
   "cell_type": "code",
   "execution_count": 36,
   "metadata": {
    "dotnet_interactive": {
     "language": "csharp"
    },
    "polyglot_notebook": {
     "kernelName": "csharp"
    },
    "vscode": {
     "languageId": "polyglot-notebook"
    }
   },
   "outputs": [],
   "source": [
    "public class IncomeTax\n",
    "{\n",
    "    public decimal Income { get; set; }\n",
    "    public decimal Tax { get; set; }\n",
    "}"
   ]
  },
  {
   "cell_type": "markdown",
   "metadata": {},
   "source": [
    "We need to define an implementation that will apply the Calculations, the decorators. \n",
    "\n",
    "Let's start with an `abstract decorator``, that will be able to be extended with different behaviours, following the OCP (Open-Close Principle):"
   ]
  },
  {
   "cell_type": "code",
   "execution_count": 37,
   "metadata": {
    "dotnet_interactive": {
     "language": "csharp"
    },
    "polyglot_notebook": {
     "kernelName": "csharp"
    },
    "vscode": {
     "languageId": "polyglot-notebook"
    }
   },
   "outputs": [],
   "source": [
    "public interface ITaxDecorator\n",
    "{\n",
    "    void CalculateTax(IncomeTax incomeTax);\n",
    "    IncomeTax GetIncomeTax();\n",
    "}\n",
    "\n",
    "public abstract class TaxDecorator : ITaxDecorator\n",
    "{\n",
    "    private IncomeTax _incomeTax = new();\n",
    "\n",
    "    public virtual void CalculateTax(IncomeTax incomeTax)\n",
    "    {\n",
    "        _incomeTax = incomeTax;\n",
    "    }\n",
    "    \n",
    "    public IncomeTax GetIncomeTax()\n",
    "    {\n",
    "        return _incomeTax;\n",
    "    }\n",
    "}"
   ]
  },
  {
   "cell_type": "markdown",
   "metadata": {},
   "source": [
    "The `CalculateTax` is virtual, allowing it to be extended by the decorators.\n",
    "\n",
    "Lets define the tax amount tiers and rates as constants:"
   ]
  },
  {
   "cell_type": "code",
   "execution_count": 38,
   "metadata": {
    "dotnet_interactive": {
     "language": "csharp"
    },
    "polyglot_notebook": {
     "kernelName": "csharp"
    },
    "vscode": {
     "languageId": "polyglot-notebook"
    }
   },
   "outputs": [],
   "source": [
    "public class Constants\n",
    "    {\n",
    "        public class Tax\n",
    "        {\n",
    "            public const decimal FIRST_TIER_INCOME = 14000m;\n",
    "            public const decimal SECOND_TIER_INCOME = 48000m;\n",
    "            public const decimal THIRD_TIER_INCOME = 70000m;\n",
    "            public const decimal FOURTH_TIER_INCOME = 180000m;\n",
    "\n",
    "            public const decimal FIRST_TIER_RATE = 0.105m;\n",
    "            public const decimal SECOND_TIER_RATE = 0.175m;\n",
    "            public const decimal THIRD_TIER_RATE = 0.30m;\n",
    "            public const decimal FOURTH_TIER_RATE = 0.33m;\n",
    "            public const decimal FIFTH_TIER_RATE = 0.39m;\n",
    "        }\n",
    "    }"
   ]
  },
  {
   "cell_type": "markdown",
   "metadata": {},
   "source": [
    "\n",
    "\n",
    "From here we can start creating our decorators, for the different \"tax tiers\".\n",
    "\n",
    "`FirstTierTaxDecorator.cs`"
   ]
  },
  {
   "cell_type": "code",
   "execution_count": 39,
   "metadata": {
    "dotnet_interactive": {
     "language": "csharp"
    },
    "polyglot_notebook": {
     "kernelName": "csharp"
    },
    "vscode": {
     "languageId": "polyglot-notebook"
    }
   },
   "outputs": [],
   "source": [
    "public class FirstTierTaxDecorator : TaxDecorator\n",
    "{\n",
    "    public override void CalculateTax(IncomeTax incomeTax)\n",
    "    {\n",
    "        if (incomeTax.Income > Constants.Tax.FIRST_TIER_INCOME) // $14,000.00\n",
    "        {\n",
    "            incomeTax.Tax += Constants.Tax.FIRST_TIER_INCOME * Constants.Tax.FIRST_TIER_RATE; // $14,000.00 * 10.5%\n",
    "        }\n",
    "        else\n",
    "        {\n",
    "            incomeTax.Tax += incomeTax.Income * Constants.Tax.FIRST_TIER_RATE; // Income provided * 10.5% \n",
    "        }\n",
    "        base.CalculateTax(incomeTax);\n",
    "    }\n",
    "}\n"
   ]
  },
  {
   "cell_type": "markdown",
   "metadata": {},
   "source": [
    "`SecondTierTaxDecorator.cs`"
   ]
  },
  {
   "cell_type": "code",
   "execution_count": 40,
   "metadata": {
    "dotnet_interactive": {
     "language": "csharp"
    },
    "polyglot_notebook": {
     "kernelName": "csharp"
    },
    "vscode": {
     "languageId": "polyglot-notebook"
    }
   },
   "outputs": [],
   "source": [
    "\n",
    "public class SecondTierTaxDecorator : TaxDecorator\n",
    "{\n",
    "    public override void CalculateTax(IncomeTax incomeTax)\n",
    "    {\n",
    "        if (incomeTax.Income > Constants.Tax.SECOND_TIER_INCOME) // $48,000.00\n",
    "        {\n",
    "            incomeTax.Tax += (Constants.Tax.SECOND_TIER_INCOME - Constants.Tax.FIRST_TIER_INCOME) * Constants.Tax.SECOND_TIER_RATE; // ($48,000.00 - $14,000.00) * 17.5%\n",
    "        }\n",
    "        else if (incomeTax.Income is > Constants.Tax.FIRST_TIER_INCOME and <= Constants.Tax.SECOND_TIER_INCOME) // $14,000.00 < x <= $48,000.00\n",
    "        {\n",
    "            incomeTax.Tax += (incomeTax.Income - Constants.Tax.FIRST_TIER_INCOME) * Constants.Tax.SECOND_TIER_RATE; // (Income - $14,000.00) * 17.5%\n",
    "        }\n",
    "        base.CalculateTax(incomeTax);\n",
    "    }\n",
    "}"
   ]
  },
  {
   "cell_type": "markdown",
   "metadata": {},
   "source": [
    "`ThirdTierTaxDecorator.cs`"
   ]
  },
  {
   "cell_type": "code",
   "execution_count": 41,
   "metadata": {
    "dotnet_interactive": {
     "language": "csharp"
    },
    "polyglot_notebook": {
     "kernelName": "csharp"
    },
    "vscode": {
     "languageId": "polyglot-notebook"
    }
   },
   "outputs": [],
   "source": [
    "\n",
    "public class ThirdTierTaxDecorator : TaxDecorator\n",
    "{\n",
    "    public override void CalculateTax(IncomeTax incomeTax)\n",
    "    {\n",
    "        if (incomeTax.Income > Constants.Tax.THIRD_TIER_INCOME) // $70,000.00\n",
    "        {\n",
    "            incomeTax.Tax += (Constants.Tax.THIRD_TIER_INCOME - Constants.Tax.SECOND_TIER_INCOME) * Constants.Tax.THIRD_TIER_RATE; // ($70,000.00 - $48,000.00) * 30%\n",
    "        }\n",
    "        else if (incomeTax.Income is > Constants.Tax.SECOND_TIER_INCOME and <= Constants.Tax.THIRD_TIER_INCOME) // $48,000.00 < x <= $70,000.00\n",
    "        {\n",
    "            incomeTax.Tax += (incomeTax.Income - Constants.Tax.SECOND_TIER_INCOME) * Constants.Tax.THIRD_TIER_RATE; // (Income - $48,000.00) * 30%\n",
    "        }\n",
    "        base.CalculateTax(incomeTax);\n",
    "    }\n",
    "}"
   ]
  },
  {
   "cell_type": "markdown",
   "metadata": {},
   "source": [
    "`FourthTierTaxDecorator.cs`"
   ]
  },
  {
   "cell_type": "code",
   "execution_count": 42,
   "metadata": {
    "dotnet_interactive": {
     "language": "csharp"
    },
    "polyglot_notebook": {
     "kernelName": "csharp"
    },
    "vscode": {
     "languageId": "polyglot-notebook"
    }
   },
   "outputs": [],
   "source": [
    "public class FourthTierTaxDecorator : TaxDecorator\n",
    "{\n",
    "    public override void CalculateTax(IncomeTax incomeTax)\n",
    "    {\n",
    "        if (incomeTax.Income > Constants.Tax.FOURTH_TIER_INCOME) // $180,000.00\n",
    "        {\n",
    "            incomeTax.Tax += (Constants.Tax.FOURTH_TIER_INCOME - Constants.Tax.THIRD_TIER_INCOME) * Constants.Tax.FOURTH_TIER_RATE; // ($180,000.00 - $70,000.00) * 33%\n",
    "        }\n",
    "        else if (incomeTax.Income is > Constants.Tax.THIRD_TIER_INCOME and <= Constants.Tax.FOURTH_TIER_INCOME) // $70,000.00 < x <= $180,000.00\n",
    "        {\n",
    "            incomeTax.Tax += (incomeTax.Income - Constants.Tax.THIRD_TIER_INCOME) * Constants.Tax.FOURTH_TIER_RATE; // (Income - $70,000.00) * 33%\n",
    "        }\n",
    "        base.CalculateTax(incomeTax);\n",
    "    }\n",
    "}"
   ]
  },
  {
   "cell_type": "markdown",
   "metadata": {},
   "source": [
    "`FifthTierTaxDecorator.cs`"
   ]
  },
  {
   "cell_type": "code",
   "execution_count": 43,
   "metadata": {
    "dotnet_interactive": {
     "language": "csharp"
    },
    "polyglot_notebook": {
     "kernelName": "csharp"
    },
    "vscode": {
     "languageId": "polyglot-notebook"
    }
   },
   "outputs": [],
   "source": [
    "public class FifthTierTaxDecorator : TaxDecorator\n",
    "{\n",
    "    public override void CalculateTax(IncomeTax incomeTax)\n",
    "    {\n",
    "        if (incomeTax.Income > Constants.Tax.FOURTH_TIER_INCOME) // $180,000.00\n",
    "        {\n",
    "            incomeTax.Tax += (incomeTax.Income - Constants.Tax.FOURTH_TIER_INCOME) * Constants.Tax.FIFTH_TIER_RATE; // (Income - $180,000.00) * 39%\n",
    "        }\n",
    "        base.CalculateTax(incomeTax);\n",
    "    }\n",
    "}"
   ]
  },
  {
   "cell_type": "markdown",
   "metadata": {},
   "source": [
    "\n",
    "So we end up with Five (5) different behaviours, that are calculating the Income Tax.\n",
    "\n",
    "## Using the pattern\n",
    "\n",
    "Considering that now all the behaviours were defined, they now can be attached to `TaxIncome`, and then we have our calculation. \n",
    "The decorators are applied on `decorator.CalculateTax(incomeTax);`:"
   ]
  },
  {
   "cell_type": "code",
   "execution_count": 44,
   "metadata": {
    "dotnet_interactive": {
     "language": "csharp"
    },
    "polyglot_notebook": {
     "kernelName": "csharp"
    },
    "vscode": {
     "languageId": "polyglot-notebook"
    }
   },
   "outputs": [
    {
     "ename": "Error",
     "evalue": "(8,32): error CS1003: Syntax error, ',' expected",
     "output_type": "error",
     "traceback": [
      "(8,32): error CS1003: Syntax error, ',' expected"
     ]
    }
   ],
   "source": [
    "\n",
    "var incomeTax = new IncomeTax()\n",
    "{\n",
    "    Income = 80000m\n",
    "};\n",
    "var decorators = new List<TaxDecorator>\n",
    "{\n",
    "    new FirstTierTaxDecorator()\n",
    "    new SecondTierTaxDecorator(),\n",
    "    new ThirdTierTaxDecorator(),\n",
    "    new FourthTierTaxDecorator(),\n",
    "    new FifthTierTaxDecorator()\n",
    "};\n",
    "foreach (var decorator in decorators)\n",
    "{\n",
    "    decorator.CalculateTax(incomeTax);\n",
    "}\n",
    "Console.WriteLine($\"Income Tax: {incomeTax.Tax}\");"
   ]
  }
 ],
 "metadata": {
  "language_info": {
   "name": "python"
  },
  "orig_nbformat": 4
 },
 "nbformat": 4,
 "nbformat_minor": 2
}

{
 "cells": [
  {
   "cell_type": "markdown",
   "metadata": {},
   "source": [
    "# SOLID\n",
    "\n",
    "Design principles intended to make object-oriented designs more **maintainable**.\n",
    "\n",
    "These principles will help you to write clean code, with separation of concerns, cohesion, decoupling, helping with code reuse. They are:\n",
    "\n",
    "* Single-Responsibility Principle (SRP)\n",
    "* Open-Closed Principle (OCP)\n",
    "* Liskov Substitution Principle (LSP)\n",
    "* Interface Segregation Principle (ISP)\n",
    "* Dependency Inversion Principle (DIP)"
   ]
  },
  {
   "cell_type": "markdown",
   "metadata": {},
   "source": [
    "## Single-Responsibility Principle\n",
    "\n",
    "`A class should have one, and only one, reason to change.` Robert C. Martin\n",
    "\n",
    "This principle is applied to classes and functions, and they need to have one responsibility, a single purpose.\n",
    "\n",
    "There are great benefits of applying SRP:\n",
    "\n",
    "* **Code becomes easier to understand** - there is less happening when the implementation is more specific, as the classes are more concise.\n",
    "* **Code becomes easier to maintain** - Less is more, as the classes don't deal with multiple things.\n",
    "* **Code is changed less frequently** - in general, when requirements change, not every part of the application is going to change because the classes are more specific.\n",
    "* **Code is testable** - because classes are specific and small, code can be thoroughly tested.\n",
    "\n",
    "### Bad Example \n",
    "\n",
    "A classic example of how to violate the Single Responsibility Principle:\n"
   ]
  },
  {
   "cell_type": "code",
   "execution_count": 50,
   "metadata": {
    "dotnet_interactive": {
     "language": "csharp"
    },
    "polyglot_notebook": {
     "kernelName": "csharp"
    }
   },
   "outputs": [],
   "source": [
    "public class OrderProcessor\n",
    "{\n",
    "    private readonly Order _order;\n",
    "    public OrderProcessor(Order order)\n",
    "    {\n",
    "        _order = order;\n",
    "    }\n",
    "    // Validate\n",
    "    public void Validate()\n",
    "    {\n",
    "        //TODO: validate order\n",
    "        Console.WriteLine($\"validate order: {_order.OrderNumber}\");\n",
    "    }\n",
    "    // Save\n",
    "    public void Save()\n",
    "    {\n",
    "        //TODO: save order\n",
    "        Console.WriteLine($\"save order: {_order.OrderNumber}\");\n",
    "    }\n",
    "    // Notify\n",
    "    public void Notify()\n",
    "    {\n",
    "        //TODO: send notification\n",
    "        Console.WriteLine($\"send notification: {_order.OrderNumber}\");\n",
    "    }\n",
    "}"
   ]
  },
  {
   "cell_type": "markdown",
   "metadata": {},
   "source": [
    "Looking at the implementation above we can see the implementation of many responsibilities: `Validate()`, `Save()`, `Notify()`. This is a violation of SRP.\n",
    "\n",
    "Problems we can identify with this implementation:\n",
    "\n",
    "* **No cohesion** - There are different things in the same context of `OrderProcessor`.\n",
    "* **Coupling** - Because of too many responsibilities, we have too many dependencies, leaving OrderProcessor in a fragile state in case changes are needed.\n",
    "* **Testability** - It becomes more difficult to test the implementation.\n",
    "* **Reusability** - Because the code is not modular, code reuse is affected.\n",
    "\n",
    "### The right example\n",
    "\n",
    "Based on the previous example, the `OrderProcessor` now becomes an **orchestrator**, and its responsibilities `Validate()`, `Save()`, `Notify()` are split into their own classes."
   ]
  },
  {
   "cell_type": "code",
   "execution_count": 51,
   "metadata": {
    "dotnet_interactive": {
     "language": "csharp"
    },
    "polyglot_notebook": {
     "kernelName": "csharp"
    }
   },
   "outputs": [],
   "source": [
    "public class OrderProcessor\n",
    "{\n",
    "    private readonly OrderValidator _orderValidator;\n",
    "    private readonly OrderSaver _orderSaver;\n",
    "    private readonly OrderNotifier _orderNotifier;\n",
    "    public OrderProcessor(OrderValidator orderValidator, OrderSaver orderSaver, OrderNotifier orderNotifier)\n",
    "    {\n",
    "        _orderValidator = orderValidator;\n",
    "        _orderSaver = orderSaver;\n",
    "        _orderNotifier = orderNotifier;\n",
    "    }\n",
    "    \n",
    "    public void Process()\n",
    "    {\n",
    "        _orderValidator.Validate();\n",
    "        _orderSaver.Save();\n",
    "        _orderNotifier.Notify();\n",
    "    }\n",
    "}"
   ]
  },
  {
   "cell_type": "markdown",
   "metadata": {},
   "source": [
    "Each class now has its own responsibility:"
   ]
  },
  {
   "cell_type": "code",
   "execution_count": 52,
   "metadata": {
    "dotnet_interactive": {
     "language": "csharp"
    },
    "polyglot_notebook": {
     "kernelName": "csharp"
    }
   },
   "outputs": [],
   "source": [
    "public class OrderValidator\n",
    "{\n",
    "    private readonly Order _order;\n",
    "    public OrderValidator(Order order)\n",
    "    {\n",
    "        _order = order;\n",
    "    }\n",
    "    public void Validate()\n",
    "    {\n",
    "        //TODO: validate order\n",
    "        Console.WriteLine($\"validate order: {_order.OrderNumber}\");\n",
    "    }\n",
    "}"
   ]
  },
  {
   "cell_type": "code",
   "execution_count": 53,
   "metadata": {
    "dotnet_interactive": {
     "language": "csharp"
    },
    "polyglot_notebook": {
     "kernelName": "csharp"
    }
   },
   "outputs": [],
   "source": [
    "public class OrderSaver\n",
    "{\n",
    "    private readonly Order _order;\n",
    "    public OrderSaver(Order order)\n",
    "    {\n",
    "        _order = order;\n",
    "    }\n",
    "    public void Save()\n",
    "    {\n",
    "        //TODO: save order\n",
    "        Console.WriteLine($\"save order: {_order.OrderNumber}\");\n",
    "    }\n",
    "}"
   ]
  },
  {
   "cell_type": "code",
   "execution_count": 54,
   "metadata": {
    "dotnet_interactive": {
     "language": "csharp"
    },
    "polyglot_notebook": {
     "kernelName": "csharp"
    }
   },
   "outputs": [],
   "source": [
    "public class OrderNotifier\n",
    "{\n",
    "    private readonly Order _order;\n",
    "    public OrderNotifier(Order order)\n",
    "    {\n",
    "        _order = order;\n",
    "    }\n",
    "    public void Notify()\n",
    "    {\n",
    "        //TODO: send notification\n",
    "        Console.WriteLine($\"send notification: {_order.OrderNumber}\");\n",
    "    }\n",
    "}"
   ]
  },
  {
   "cell_type": "markdown",
   "metadata": {},
   "source": [
    "## Open-Closed Principle\n",
    "\n",
    "`You should be able to extend a class behavior, without modifying it.` Robert C. Martin\n",
    "\n",
    "This principle should be considered when requirements change, and code changes are required. Rather than modifying the implementation, you should be able to extend the implementation. A class should be open for extension but closed for modification.\n",
    "\n",
    "There are great benefits of applying OCP:\n",
    "\n",
    "* Avoid introducing code bugs - the chance of introducing bugs is very low, as the existing implementation is not modified.\n",
    "* Dependent classes don't need to adapt - By not modifying existing implementations, there is no need for dependent classes to change.\n",
    "\n",
    "### The wrong example\n",
    "\n",
    "Let's take the example from SRP, in specific the `OrderSaver`. In this case a new requeriment is to be able to save the order in a Cosmos database. A violation of the Open-Closed Principle is shown below:"
   ]
  },
  {
   "cell_type": "code",
   "execution_count": 55,
   "metadata": {
    "dotnet_interactive": {
     "language": "csharp"
    },
    "polyglot_notebook": {
     "kernelName": "csharp"
    }
   },
   "outputs": [],
   "source": [
    "public class OrderSaver\n",
    "{\n",
    "    private readonly Order _order;\n",
    "    public OrderSaver(Order order)\n",
    "    {\n",
    "        _order = order;\n",
    "    }\n",
    "    public void Save()\n",
    "    {\n",
    "        //TODO: save order\n",
    "        Console.WriteLine($\"save order to sql db: {_order.OrderNumber}\");\n",
    "    }\n",
    "    public void SaveCosmos()\n",
    "    {\n",
    "        //TODO: save order to cosmos db\n",
    "        Console.WriteLine($\"save order to cosmos db: {_order.OrderNumber}\");\n",
    "    }\n",
    "}"
   ]
  },
  {
   "cell_type": "markdown",
   "metadata": {},
   "source": [
    "Looking at the implementation above we can see that the implementation for `OrderSaver` now has an extra method `SaveCosmos()`. \n",
    "\n",
    "We have directly modified an existing class, and for this method to be called, the dependent classes will need to adapt. \n",
    "\n",
    "Not only that, but we are also violating the Single Responsibility Principle (SRP)!\n",
    "\n",
    "### The right example\n",
    "\n",
    "When we are extending class behaviours, in **object-oriented programming (OOP)** we can use `inheritance`, `interfaces` or `composition`.\n",
    "\n",
    "In my opinion, the use of interfaces is cleaner, as we dictate the use of a contract without any implementation.\n",
    "\n",
    "Let's look at splitting concerns of `Save()` for saving Order to Sql, and `SaveCosmos()` for saving Order to Cosmos, using an interface `IOrderSaver`:"
   ]
  },
  {
   "cell_type": "code",
   "execution_count": 56,
   "metadata": {
    "dotnet_interactive": {
     "language": "csharp"
    },
    "polyglot_notebook": {
     "kernelName": "csharp"
    }
   },
   "outputs": [],
   "source": [
    "public interface IOrderSaver\n",
    "{\n",
    "    void Save();\n",
    "}"
   ]
  },
  {
   "cell_type": "code",
   "execution_count": 57,
   "metadata": {
    "dotnet_interactive": {
     "language": "csharp"
    },
    "polyglot_notebook": {
     "kernelName": "csharp"
    }
   },
   "outputs": [],
   "source": [
    "public class SqlDbOrderSaver : IOrderSaver\n",
    "{\n",
    "    private readonly Order _order;\n",
    "    public SqlDbOrderSaver(Order order)\n",
    "    {\n",
    "        _order = order;\n",
    "    }\n",
    "    public void Save()\n",
    "    {\n",
    "        //TODO: save order\n",
    "        Console.WriteLine($\"save order to sql db: {_order.OrderNumber}\");\n",
    "    }\n",
    "}"
   ]
  },
  {
   "cell_type": "code",
   "execution_count": 58,
   "metadata": {
    "dotnet_interactive": {
     "language": "csharp"
    },
    "polyglot_notebook": {
     "kernelName": "csharp"
    }
   },
   "outputs": [],
   "source": [
    "public class CosmosDbOrderSaver : IOrderSaver\n",
    "{\n",
    "    private readonly Order _order;\n",
    "    public CosmosDbOrderSaver(Order order)\n",
    "    {\n",
    "        _order = order;\n",
    "    }\n",
    "    public void Save()\n",
    "    {\n",
    "        //TODO: save order\n",
    "        Console.WriteLine($\"save order to cosmos db: {_order.OrderNumber}\");\n",
    "    }\n",
    "}"
   ]
  },
  {
   "cell_type": "markdown",
   "metadata": {},
   "source": [
    "This way the `OrderProcessor` doesn't need to change drastically, we should only replace `OrderSaver` with `IOrderSaver`:"
   ]
  },
  {
   "cell_type": "code",
   "execution_count": 59,
   "metadata": {
    "dotnet_interactive": {
     "language": "csharp"
    },
    "polyglot_notebook": {
     "kernelName": "csharp"
    }
   },
   "outputs": [],
   "source": [
    "public class OrderProcessor\n",
    "{\n",
    "    private readonly OrderValidator _orderValidator;\n",
    "    private readonly IOrderSaver _orderSaver;\n",
    "    private readonly OrderNotifier _orderNotifier;\n",
    "    public OrderProcessor(OrderValidator orderValidator, IOrderSaver orderSaver, OrderNotifier orderNotifier)\n",
    "    {\n",
    "        _orderValidator = orderValidator;\n",
    "        _orderSaver = orderSaver;\n",
    "        _orderNotifier = orderNotifier;\n",
    "    }\n",
    "    \n",
    "    public void Process()\n",
    "    {\n",
    "        _orderValidator.Validate();\n",
    "        _orderSaver.Save();\n",
    "        _orderNotifier.Notify();\n",
    "    }\n",
    "}"
   ]
  },
  {
   "cell_type": "markdown",
   "metadata": {},
   "source": [
    "The Open-Closed principle is very useful, because it is very easy to add new behaviours with a very minimal chance of introducing bugs to existing implementations\n",
    "\n",
    "## Liskov Substitution Principle\n",
    "\n",
    "The Liskov Substitution Principle (LSP) is a principle that helps us to think about extending class behaviours, and this is applied in object-oriented programming (OOP) through inheritance, interfaces or composition.\n",
    "\n",
    "`Derived classes must be substitutable for their base classes.` Robert C. Martin\n",
    "\n",
    "Liskov Substitution Principle, written by Barbara Liskov in 1988, states the following: `\"if S is a subtype of T, then objects of type T in a program may be replaced with objects of type S without altering any of the desirable properties of that program\"`. In other words, any object of some class in an object-oriented program can be replaced by an object of a child class.\n",
    "\n",
    "When applying this principle, inheritance and polymorphism should be carefully contextualized, otherwise, we can easily violate this principle.\n",
    "\n",
    "### The wrong example\n",
    "\n",
    "When abstractions are not well thought out, when systems increase in complexity and refactoring is not applied you may notice violations like that:"
   ]
  },
  {
   "cell_type": "code",
   "execution_count": null,
   "metadata": {
    "dotnet_interactive": {
     "language": "csharp"
    },
    "polyglot_notebook": {
     "kernelName": "csharp"
    }
   },
   "outputs": [],
   "source": [
    "public class Bird\n",
    "{\n",
    "    public string Name { get; }\n",
    "    public Bird(string name)\n",
    "    {\n",
    "        Name = name;\n",
    "    }\n",
    "    public virtual void Eat()\n",
    "    {\n",
    "        Console.WriteLine($\"{Name} eats.\");\n",
    "    }\n",
    "    public virtual void LayEggs()\n",
    "    {\n",
    "        Console.WriteLine($\"{Name} lays eggs.\");\n",
    "    }\n",
    "    public virtual void Fly() // can all birds fly?\n",
    "    {\n",
    "        Console.WriteLine($\"{Name} can fly.\");\n",
    "    }\n",
    "}"
   ]
  },
  {
   "cell_type": "markdown",
   "metadata": {},
   "source": [
    "Case 1: Because the abstraction wasn't well defined, exceptions are raised to justify an impossible action:"
   ]
  },
  {
   "cell_type": "code",
   "execution_count": null,
   "metadata": {
    "dotnet_interactive": {
     "language": "csharp"
    },
    "polyglot_notebook": {
     "kernelName": "csharp"
    }
   },
   "outputs": [],
   "source": [
    "public class Duck : Bird\n",
    "{\n",
    "    public Duck(string name) : base(name)\n",
    "    {\n",
    "    }\n",
    "}\n",
    "public class Kiwi : Bird\n",
    "{\n",
    "    public Kiwi(string name) : base(name)\n",
    "    {\n",
    "    }\n",
    "    public override void Fly()\n",
    "    {\n",
    "        throw new Exception(\"Kiwi birds can't fly.\");\n",
    "    }\n",
    "}"
   ]
  },
  {
   "cell_type": "markdown",
   "metadata": {},
   "source": [
    "Case 2: Because it is legacy, some devs skipped the implementation by doing nothing:"
   ]
  },
  {
   "cell_type": "code",
   "execution_count": null,
   "metadata": {
    "dotnet_interactive": {
     "language": "csharp"
    },
    "polyglot_notebook": {
     "kernelName": "csharp"
    }
   },
   "outputs": [],
   "source": [
    "public class Penguin : Bird\n",
    "{\n",
    "    public Penguin(string name) : base(name)\n",
    "    {\n",
    "    }\n",
    "    public override void Fly()\n",
    "    {\n",
    "        // Do nothing\n",
    "    }\n",
    "}"
   ]
  },
  {
   "cell_type": "markdown",
   "metadata": {},
   "source": [
    "Looking at the implementations above, if we were to execute them in a `Program.cs`, unlike any other Principle violation that would result in bad but working code, this would lead to a buggy, difficult-to-maintain code.\n",
    "\n",
    "### The right example\n",
    "\n",
    "There are some ways to fix the previous implementations:\n",
    "\n",
    "1. Leave the base class with only the minimal base behaviours, and leave the specialization in the derived class(es)."
   ]
  },
  {
   "cell_type": "code",
   "execution_count": null,
   "metadata": {
    "dotnet_interactive": {
     "language": "csharp"
    },
    "polyglot_notebook": {
     "kernelName": "csharp"
    }
   },
   "outputs": [],
   "source": [
    "public class Bird\n",
    "{\n",
    "    public string Name { get; }\n",
    "    public Bird(string name)\n",
    "    {\n",
    "        Name = name;\n",
    "    }\n",
    "    public virtual void Eat()\n",
    "    {\n",
    "        Console.WriteLine($\"{Name} eats.\");\n",
    "    }\n",
    "    public virtual void LayEggs()\n",
    "    {\n",
    "        Console.WriteLine($\"{Name} lays eggs.\");\n",
    "    }\n",
    "}\n",
    "public class Duck : Bird\n",
    "{\n",
    "    public Duck(string name) : base(name)\n",
    "    {\n",
    "    }\n",
    "    public void Fly()\n",
    "    {\n",
    "        Console.WriteLine($\"{Name} can fly.\");\n",
    "    }\n",
    "}\n",
    "public class Kiwi : Bird\n",
    "{\n",
    "    public Kiwi(string name) : base(name)\n",
    "    {\n",
    "    }\n",
    "}"
   ]
  },
  {
   "cell_type": "markdown",
   "metadata": {},
   "source": [
    "2. Use granular interfaces to dictate a contract of the implementation. By the way, this is related to the next principle Interface Segregation Principle (ISP)."
   ]
  },
  {
   "cell_type": "code",
   "execution_count": null,
   "metadata": {
    "dotnet_interactive": {
     "language": "csharp"
    },
    "polyglot_notebook": {
     "kernelName": "csharp"
    }
   },
   "outputs": [],
   "source": [
    "public interface IRegularBird\n",
    "{\n",
    "    string Name { get; }\n",
    "    void Eat();\n",
    "    void LayEggs();\n",
    "}\n",
    "public interface IFlyingBird\n",
    "{\n",
    "    string Name { get; }\n",
    "    void Fly();\n",
    "}\n",
    "public class Bird : IRegularBird\n",
    "{\n",
    "    public string Name { get; }\n",
    "    public Bird(string name)\n",
    "    {\n",
    "        Name = name;\n",
    "    }\n",
    "    public virtual void Eat()\n",
    "    {\n",
    "        Console.WriteLine($\"{Name} eats.\");\n",
    "    }\n",
    "    public virtual void LayEggs()\n",
    "    {\n",
    "        Console.WriteLine($\"{Name} lays eggs.\");\n",
    "    }\n",
    "}\n",
    "public class FlyingBird : IRegularBird, IFlyingBird\n",
    "{\n",
    "    public string Name { get; }\n",
    "    public FlyingBird(string name)\n",
    "    {\n",
    "        Name = name;\n",
    "    }\n",
    "    public virtual void Eat()\n",
    "    {\n",
    "        Console.WriteLine($\"{Name} eats.\");\n",
    "    }\n",
    "    public virtual void LayEggs()\n",
    "    {\n",
    "        Console.WriteLine($\"{Name} lays eggs.\");\n",
    "    }\n",
    "    public virtual void Fly()\n",
    "    {\n",
    "        Console.WriteLine($\"{Name} can fly.\");\n",
    "    }\n",
    "}\n",
    "public class Kiwi : Bird\n",
    "{\n",
    "    public Kiwi(string name) : base(name)\n",
    "    {\n",
    "    }\n",
    "}\n",
    "public class Duck : FlyingBird\n",
    "{\n",
    "    public Duck(string name) : base(name)\n",
    "    {\n",
    "    }\n",
    "}"
   ]
  },
  {
   "cell_type": "markdown",
   "metadata": {},
   "source": [
    "## Interface Segregation Principle\n",
    "\n",
    "`Make fine grained interfaces that are client specific.` Robert C. Martin\n",
    "\n",
    "The Interface Segregation Principle (ISP) is a principle that helps us to think about creating many specialized interfaces instead of a single general-purpose interface.\n",
    "\n",
    "When interfaces aggregate lots of generic behaviours they become difficult to maintain and evolve. The rule of thumb is `\"the more specific the better\"``.\n",
    "\n",
    "If you think about the Single-Responsibility Principle (SRP), the same principles are applied here.\n",
    "\n",
    "### The wrong example\n",
    "\n",
    "The same example as SRP, but this time we represent it through the use of an interface, a fat one:"
   ]
  },
  {
   "cell_type": "code",
   "execution_count": 60,
   "metadata": {
    "dotnet_interactive": {
     "language": "csharp"
    },
    "polyglot_notebook": {
     "kernelName": "csharp"
    }
   },
   "outputs": [],
   "source": [
    "public interface IOrderProcessor\n",
    "{\n",
    "    void Validate();\n",
    "    void Save();\n",
    "    void Notify();\n",
    "}"
   ]
  },
  {
   "cell_type": "markdown",
   "metadata": {},
   "source": [
    "In this case, we only want to validate an order, but because we have a single general-purpose interface, the client is mandated to implement methods that aren't needed:"
   ]
  },
  {
   "cell_type": "code",
   "execution_count": null,
   "metadata": {
    "dotnet_interactive": {
     "language": "csharp"
    },
    "polyglot_notebook": {
     "kernelName": "csharp"
    }
   },
   "outputs": [],
   "source": [
    "public class OrderValidator : IOrderProcessor\n",
    "{\n",
    "    private readonly Order _order;\n",
    "    public OrderValidator(Order order)\n",
    "    {\n",
    "        _order = order;\n",
    "    }\n",
    "    // Validate\n",
    "    public void Validate()\n",
    "    {\n",
    "        //TODO: validate order\n",
    "        Console.WriteLine($\"validate order: {_order.OrderNumber}\");\n",
    "    }\n",
    "    // Save\n",
    "    public void Save()\n",
    "    {\n",
    "        throw new NotImplementedException();\n",
    "    }\n",
    "    // Notify\n",
    "    public void Notify()\n",
    "    {\n",
    "        throw new NotImplementedException();\n",
    "    }\n",
    "}"
   ]
  },
  {
   "cell_type": "markdown",
   "metadata": {},
   "source": [
    "In general, you get to see `NotImplementedException` when the principle is violated.\n",
    "\n",
    "### The right example\n",
    "\n",
    "The more specific the better:"
   ]
  },
  {
   "cell_type": "code",
   "execution_count": null,
   "metadata": {
    "dotnet_interactive": {
     "language": "csharp"
    },
    "polyglot_notebook": {
     "kernelName": "csharp"
    }
   },
   "outputs": [],
   "source": [
    "public interface IOrderValidator\n",
    "{\n",
    "    void Validate();\n",
    "}"
   ]
  },
  {
   "cell_type": "markdown",
   "metadata": {},
   "source": [
    "Similar to the right example from SRP, this one uses the specific interface `IOrderSaver`:"
   ]
  },
  {
   "cell_type": "code",
   "execution_count": null,
   "metadata": {
    "dotnet_interactive": {
     "language": "csharp"
    },
    "polyglot_notebook": {
     "kernelName": "csharp"
    }
   },
   "outputs": [],
   "source": [
    "public class OrderSaver : IOrderSaver\n",
    "{\n",
    "    private readonly Order _order;\n",
    "    public OrderSaver(Order order)\n",
    "    {\n",
    "        _order = order;\n",
    "    }\n",
    "    public void Save()\n",
    "    {\n",
    "        //TODO: save order\n",
    "        Console.WriteLine($\"save order: {_order.OrderNumber}\");\n",
    "    }\n",
    "}"
   ]
  },
  {
   "cell_type": "markdown",
   "metadata": {},
   "source": [
    "## Dependency Inversion Principle\n",
    "\n",
    "`Depend on abstractions, not on concretions.` Robert C. Martin\n",
    "\n",
    "The principle also mentions that:\n",
    "\n",
    "* High-level modules should not depend upon low-level modules, both should depend upon abstractions.\n",
    "* Abstractions should not depend upon details. Details should depend upon abstractions.\n",
    "\n",
    "We can associate this principle with decoupling because the idea is to disassociate module dependencies. This has great benefits:\n",
    "\n",
    "* Resiliency - things are not going to easily break, minimizing the impact of changes.\n",
    "* Reusability - because of the dependency on abstractions, the code becomes much more flexible and reusable.\n",
    "* Testability - decoupling makes it easier to unit test.\n",
    "\n",
    "Abstraction can be compared to a process of hiding the implementation details from the client but making the functionality available to this client. In other words, the client has the information on what the object does instead of how it does it.\n",
    "\n",
    "Interfaces - Since all the methods of an interface are abstract and the client doesn't know how a method is written (except the method signature/prototype), abstraction is achieved when using interfaces. Interfaces also promote decoupling, as we have already seen it in (OCP)1 and (ISP)2.\n",
    "\n",
    "### The wrong example\n",
    "\n",
    "The same example as (SRP), which uses concretions in constructors:"
   ]
  },
  {
   "cell_type": "code",
   "execution_count": null,
   "metadata": {
    "dotnet_interactive": {
     "language": "csharp"
    },
    "polyglot_notebook": {
     "kernelName": "csharp"
    }
   },
   "outputs": [],
   "source": [
    "public class OrderProcessor\n",
    "{\n",
    "    private readonly OrderValidator _orderValidator;\n",
    "    private readonly OrderSaver _orderSaver;\n",
    "    private readonly OrderNotifier _orderNotifier;\n",
    "    public OrderProcessor(OrderValidator orderValidator, OrderSaver orderSaver, OrderNotifier orderNotifier) // should we use concretions?\n",
    "    {\n",
    "        _orderValidator = orderValidator;\n",
    "        _orderSaver = orderSaver;\n",
    "        _orderNotifier = orderNotifier;\n",
    "    }\n",
    "    \n",
    "    public void Process()\n",
    "    {\n",
    "        _orderValidator.Validate();\n",
    "        _orderSaver.Save();\n",
    "        _orderNotifier.Notify();\n",
    "    }\n",
    "}"
   ]
  },
  {
   "cell_type": "markdown",
   "metadata": {},
   "source": [
    "\n",
    "### The right example\n",
    "\n",
    "Depend on abstractions, not on concretions.\n"
   ]
  },
  {
   "cell_type": "code",
   "execution_count": 62,
   "metadata": {
    "dotnet_interactive": {
     "language": "csharp"
    },
    "polyglot_notebook": {
     "kernelName": "csharp"
    }
   },
   "outputs": [],
   "source": [
    "public interface IOrderValidator\n",
    "{\n",
    "    void Validate();\n",
    "}"
   ]
  },
  {
   "cell_type": "code",
   "execution_count": 64,
   "metadata": {
    "dotnet_interactive": {
     "language": "csharp"
    },
    "polyglot_notebook": {
     "kernelName": "csharp"
    }
   },
   "outputs": [],
   "source": [
    "public interface IOrderSaver\n",
    "{\n",
    "    void Save();\n",
    "}"
   ]
  },
  {
   "cell_type": "code",
   "execution_count": 65,
   "metadata": {
    "dotnet_interactive": {
     "language": "csharp"
    },
    "polyglot_notebook": {
     "kernelName": "csharp"
    }
   },
   "outputs": [],
   "source": [
    "public interface IOrderNotifier\n",
    "{\n",
    "    void Notify();\n",
    "}"
   ]
  },
  {
   "cell_type": "code",
   "execution_count": 66,
   "metadata": {
    "dotnet_interactive": {
     "language": "csharp"
    },
    "polyglot_notebook": {
     "kernelName": "csharp"
    }
   },
   "outputs": [],
   "source": [
    "\n",
    "public class OrderProcessor\n",
    "{\n",
    "    private readonly IOrderValidator _orderValidator;\n",
    "    private readonly IOrderSaver _orderSaver;\n",
    "    private readonly IOrderNotifier _orderNotifier;\n",
    "    public OrderProcessor(IOrderValidator orderValidator, IOrderSaver orderSaver, IOrderNotifier orderNotifier)\n",
    "    {\n",
    "        _orderValidator = orderValidator;\n",
    "        _orderSaver = orderSaver;\n",
    "        _orderNotifier = orderNotifier;\n",
    "    }\n",
    "    \n",
    "    public void Process()\n",
    "    {\n",
    "        _orderValidator.Validate();\n",
    "        _orderSaver.Save();\n",
    "        _orderNotifier.Notify();\n",
    "    }\n",
    "}\n"
   ]
  },
  {
   "cell_type": "markdown",
   "metadata": {},
   "source": [
    "\n",
    "By using the interfaces, the high-level `OrderProcessor` is not depending on low-level modules, but on abstractions represented by the contracts `IOrderValidator`, `IOrderSaver` and `IOrderNotifier`."
   ]
  }
 ],
 "metadata": {
  "kernelspec": {
   "display_name": ".NET (C#)",
   "language": "C#",
   "name": ".net-csharp"
  },
  "language_info": {
   "name": "polyglot-notebook"
  },
  "orig_nbformat": 4,
  "polyglot_notebook": {
   "kernelInfo": {
    "defaultKernelName": "csharp",
    "items": [
     {
      "aliases": [],
      "name": "csharp"
     }
    ]
   }
  }
 },
 "nbformat": 4,
 "nbformat_minor": 2
}
